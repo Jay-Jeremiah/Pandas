{
 "cells": [
  {
   "cell_type": "code",
   "execution_count": 1,
   "metadata": {},
   "outputs": [],
   "source": [
    "import pandas as pd"
   ]
  },
  {
   "cell_type": "code",
   "execution_count": 2,
   "metadata": {},
   "outputs": [
    {
     "name": "stdout",
     "output_type": "stream",
     "text": [
      "    Time  Rate  Calories   Gain\n",
      "0     60   110       130  409.1\n",
      "1     60   117       145  479.0\n",
      "2     60   103       135  340.0\n",
      "3     45   109       175  282.4\n",
      "4     45   117       148  408.0\n",
      "5     60   102       127  307.5\n",
      "6     60   110       136  374.0\n",
      "7     45   104       134  253.4\n",
      "8     30   109       133  195.1\n",
      "9     60    98       124  269.0\n",
      "10    60   103       147  329.3\n",
      "11    60   100       120  250.7\n",
      "12    60   106       128  345.3\n",
      "13    60   104       132  379.3\n",
      "14    60    98       123  275.0\n",
      "15    60    98       120  215.2\n",
      "16    60   100       120  300.0\n",
      "17    45    90       112    NaN\n",
      "18    60   103       123  323.0\n",
      "19    45    97       125  243.0\n",
      "20    60   108       131  364.2\n"
     ]
    }
   ],
   "source": [
    "rf = pd.read_csv('C:\\\\Users\\\\Jeremiah\\\\Documents\\\\Pandas\\\\Pandas\\\\CSV_files\\\\data1.csv')\n",
    "\n",
    "print(rf.to_string())\n"
   ]
  }
 ],
 "metadata": {
  "kernelspec": {
   "display_name": "Python 3",
   "language": "python",
   "name": "python3"
  },
  "language_info": {
   "codemirror_mode": {
    "name": "ipython",
    "version": 3
   },
   "file_extension": ".py",
   "mimetype": "text/x-python",
   "name": "python",
   "nbconvert_exporter": "python",
   "pygments_lexer": "ipython3",
   "version": "3.11.8"
  }
 },
 "nbformat": 4,
 "nbformat_minor": 2
}
